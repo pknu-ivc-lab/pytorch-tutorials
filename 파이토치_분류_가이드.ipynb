{
 "cells": [
  {
   "cell_type": "markdown",
   "metadata": {},
   "source": [
    "# 스테그아날리시스 데이터를 이용한 파이토치 분류 가이드\n",
    "\n",
    "파이토치 설치 -> 윈도우즈는 아나콘다 필수!<br>\n",
    "https://pytorch.org/get-started/locally/<br>\n",
    "conda install pytorch torchvision torchaudio cudatoolkit=10.2 -c pytorch"
   ]
  },
  {
   "cell_type": "markdown",
   "metadata": {},
   "source": [
    "## CNN 네트워크 구성\n",
    "\n",
    "nn.Squential을 이용해 한 파일에 구현할 수 있지만, 보통 클래스 형태로 따로 사용."
   ]
  },
  {
   "cell_type": "code",
   "execution_count": 5,
   "metadata": {},
   "outputs": [
    {
     "name": "stdout",
     "output_type": "stream",
     "text": [
      "tensor([[0.5406, 0.4594]], grad_fn=<SoftmaxBackward>)\n"
     ]
    }
   ],
   "source": [
    "# -*- coding: utf-8 -*-\n",
    "import torch\n",
    "from torch import nn\n",
    "\n",
    "class Model(nn.Module):\n",
    "    def __init__(self, classes=2):\n",
    "        super(Model, self).__init__()\n",
    "        #Group1\n",
    "        self.conv1 = nn.Conv2d(1,8,5,1,2, bias=False)\n",
    "        self.bn1 = nn.BatchNorm2d(8)\n",
    "        \n",
    "        #Group2\n",
    "        self.conv2 = nn.Conv2d(8,16,5,1,2)\n",
    "        self.bn2 = nn.BatchNorm2d(16)\n",
    "        \n",
    "        #Group 3~5\n",
    "        self.conlayer3 = self.Conv_forward(16,32,5,1,2)\n",
    "        self.conlayer4 = self.Conv_forward(32,64,5,1,2)\n",
    "        self.conlayer5 = self.Conv_forward(64,128,5,1,2)\n",
    "        self.AvgPooling = nn.AvgPool2d(5,2,2)\n",
    "        self.GlobalPooling = nn.AvgPool2d(16)\n",
    "        \n",
    "        #Fully Connected\n",
    "        self.fc = nn.Sequential(\n",
    "                nn.Linear(128,classes),\n",
    "                nn.Softmax(dim=1)\n",
    "                )\n",
    "        \n",
    "    def Conv_forward(self, in_featere, out_feature, k_size, stride, padding, bias=False):\n",
    "        Seq = nn.Sequential(\n",
    "                nn.Conv2d(in_featere, out_feature, k_size,stride,padding,bias=bias),\n",
    "                nn.BatchNorm2d(out_feature),\n",
    "                nn.ReLU(),\n",
    "                )\n",
    "        \n",
    "        return Seq\n",
    "    \n",
    "    def forward(self, x):\n",
    "        #Group1\n",
    "        x = self.conv1(x)\n",
    "        x = torch.abs(x)\n",
    "        x = self.bn1(x)\n",
    "        x = torch.tanh(x)\n",
    "        x = self.AvgPooling(x)\n",
    "        \n",
    "        #Group2\n",
    "        x = self.conv2(x)\n",
    "        x = self.bn2(x)\n",
    "        x = torch.tanh(x)\n",
    "        x = self.AvgPooling(x)\n",
    "        \n",
    "        #Group3~5\n",
    "        x = self.conlayer3(x)\n",
    "        x = self.AvgPooling(x)\n",
    "        x = self.conlayer4(x)\n",
    "        x = self.AvgPooling(x)\n",
    "        x = self.conlayer5(x)\n",
    "        x = self.GlobalPooling(x)        \n",
    "        \n",
    "        #Flatten & FC layer\n",
    "        x = x.view(-1,128)\n",
    "        x = self.fc(x)\n",
    "        return x\n",
    "    \n",
    "if __name__ == \"__main__\":\n",
    "    x = torch.randn([1,1,256,256])\n",
    "    net = Model()\n",
    "    y = net(x)\n",
    "    print(y)"
   ]
  },
  {
   "cell_type": "markdown",
   "metadata": {},
   "source": [
    "## 데이터 구성\n",
    "torch.utils.data의 TensorDataset, DataLoader 클래스를 사용한다.<br>\n",
    "파이토치의 데이터는 [데이터수, 채널수, 너비, 높이]의 형태"
   ]
  },
  {
   "cell_type": "code",
   "execution_count": 26,
   "metadata": {},
   "outputs": [],
   "source": [
    "import numpy as np\n",
    "from torch.utils.data import TensorDataset, DataLoader\n",
    "\n",
    "#넘파이 데이터 256사이즈의 흑백영상 1000장 이라고 가정, 2진 분류\n",
    "data = np.zeros([1000,1,256,256], dtype=np.uint8)\n",
    "label = np.zeros([1000, 2], dtype=np.long)\n",
    "\n",
    "#파이토치 텐서로 변환\n",
    "data = torch.from_numpy(data).float()\n",
    "label = torch.from_numpy(label).long()\n",
    "\n",
    "ds = TensorDataset(data, label)\n",
    "data_loader = DataLoader(ds, batch_size=100, shuffle=True) #셔플 true == 데이터를 알아서 섞어줌, 학습시에만 true"
   ]
  },
  {
   "cell_type": "markdown",
   "metadata": {},
   "source": [
    "## 학습\n",
    "파이토치의 학습은 직관적인 편이다.<br>"
   ]
  },
  {
   "cell_type": "code",
   "execution_count": 25,
   "metadata": {},
   "outputs": [
    {
     "name": "stdout",
     "output_type": "stream",
     "text": [
      "torch.Size([100, 1, 256, 256]) torch.Size([100, 2]) tensor([0.5051, 0.4949], device='cuda:0', grad_fn=<SelectBackward>)\n"
     ]
    }
   ],
   "source": [
    "from torch import optim\n",
    "\n",
    "device = torch.device(\"cuda\" if torch.cuda.is_available() else \"cpu\") #gpu 사용 가능?\n",
    "\n",
    "#네트워크 설정\n",
    "Net = Model()\n",
    "Net = Net.to(device)\n",
    "lr = 0.001\n",
    "loss_fn = nn.CrossEntropyLoss()\n",
    "optimizer = optim.SGD(Net.parameters(), lr=lr, momentum=0.9)\n",
    "\n",
    "#데이터 로더에서 자동으로 배치사이즈씩 나누어서 데이터를 보내준다.\n",
    "for X, Y in data_loader:\n",
    "    X = X.to(device)\n",
    "    Y = Y.to(device)\n",
    "    \n",
    "    #이전 단계의 기울기 초기화\n",
    "    optimizer.zero_grad()\n",
    "    \n",
    "    #예측 [P(a), P(b)]\n",
    "    y_pred = Net(X) \n",
    "    \n",
    "    #loss 계산\n",
    "    loss = loss_fn(y_pred, torch.max(Y, 1)[1])\n",
    "    \n",
    "    #학습\n",
    "    loss.backward()\n",
    "    optimizer.step()\n",
    "print(X.shape, Y.shape, y_pred[0])\n",
    "\n",
    "#파라미터 저장\n",
    "#torch.save(Net.state_dict(), save_path + f\"epoch{epo}.pth\")"
   ]
  },
  {
   "cell_type": "markdown",
   "metadata": {},
   "source": [
    "## 검증"
   ]
  },
  {
   "cell_type": "code",
   "execution_count": 21,
   "metadata": {},
   "outputs": [
    {
     "name": "stderr",
     "output_type": "stream",
     "text": [
      "100%|██████████████████████████████████████████████████████████████████████████████████| 10/10 [00:00<00:00, 55.44it/s]"
     ]
    },
    {
     "name": "stdout",
     "output_type": "stream",
     "text": [
      "정확도: 0.09999999403953552\n"
     ]
    },
    {
     "name": "stderr",
     "output_type": "stream",
     "text": [
      "\n"
     ]
    }
   ],
   "source": [
    "import tqdm\n",
    "\n",
    "Net = Model()\n",
    "Net = Net.to(device).eval()\n",
    "\n",
    "#학습 파라미터 불러오기\n",
    "#Net.load_state_dict(torch.load(save_path + \"epoch100.prm\"), strict=False)\n",
    "\n",
    "ys = []\n",
    "ypreds = []\n",
    "\n",
    "#for epoch in range(100):\n",
    "for X, Y in tqdm.tqdm(data_loader):\n",
    "    X = X.to(device)\n",
    "    Y = Y.to(device)\n",
    "        \n",
    "    with torch.no_grad():\n",
    "        # Value, Indices >> Get Indices\n",
    "        _, y_pred = Net(X).max(1)\n",
    "        ys.append(Y.max(1)[1])\n",
    "        ypreds.append(y_pred)\n",
    "        \n",
    "ys = torch.cat(ys)\n",
    "ypreds = torch.cat(ypreds)\n",
    "print(\"정확도:\", ((ys == ypreds).float().sum() / 10000).item())"
   ]
  },
  {
   "cell_type": "code",
   "execution_count": null,
   "metadata": {},
   "outputs": [],
   "source": []
  },
  {
   "cell_type": "code",
   "execution_count": null,
   "metadata": {},
   "outputs": [],
   "source": []
  }
 ],
 "metadata": {
  "kernelspec": {
   "display_name": "Python 3",
   "language": "python",
   "name": "python3"
  },
  "language_info": {
   "codemirror_mode": {
    "name": "ipython",
    "version": 3
   },
   "file_extension": ".py",
   "mimetype": "text/x-python",
   "name": "python",
   "nbconvert_exporter": "python",
   "pygments_lexer": "ipython3",
   "version": "3.8.5"
  }
 },
 "nbformat": 4,
 "nbformat_minor": 4
}
